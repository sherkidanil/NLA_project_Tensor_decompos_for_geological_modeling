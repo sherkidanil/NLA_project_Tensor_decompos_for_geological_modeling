{
  "cells": [
    {
      "cell_type": "code",
      "execution_count": 1,
      "id": "484780fa",
      "metadata": {
        "id": "484780fa"
      },
      "outputs": [],
      "source": [
        "import pandas as pd\n",
        "import numpy as np\n",
        "from matplotlib.colors import ListedColormap\n",
        "import matplotlib.pyplot as plt\n",
        "import sys"
      ]
    },
    {
      "cell_type": "code",
      "execution_count": 2,
      "id": "STHSsn0wTSr5",
      "metadata": {
        "id": "STHSsn0wTSr5"
      },
      "outputs": [],
      "source": [
        "url_poro = 'https://raw.githubusercontent.com/sherkidanil/skoltech_st_works/main/porosity_spe10.csv'\n",
        "url_perm = 'https://raw.githubusercontent.com/sherkidanil/skoltech_st_works/main/permeability_spe10.csv'"
      ]
    },
    {
      "cell_type": "code",
      "execution_count": 3,
      "id": "0280ac13",
      "metadata": {
        "id": "0280ac13"
      },
      "outputs": [],
      "source": [
        "df = pd.read_csv(url_poro, delimiter=';')\n",
        "poro_tensor = df.to_numpy()\n",
        "poro_tensor = np.reshape(poro_tensor, [60,220,85])"
      ]
    },
    {
      "cell_type": "code",
      "execution_count": 4,
      "outputs": [
        {
          "output_type": "stream",
          "name": "stdout",
          "text": [
            "Looking in indexes: https://pypi.org/simple, https://us-python.pkg.dev/colab-wheels/public/simple/\n",
            "Requirement already satisfied: tensorflow in /usr/local/lib/python3.8/dist-packages (2.9.2)\n",
            "Requirement already satisfied: numpy>=1.20 in /usr/local/lib/python3.8/dist-packages (from tensorflow) (1.21.6)\n",
            "Requirement already satisfied: flatbuffers<2,>=1.12 in /usr/local/lib/python3.8/dist-packages (from tensorflow) (1.12)\n",
            "Requirement already satisfied: libclang>=13.0.0 in /usr/local/lib/python3.8/dist-packages (from tensorflow) (14.0.6)\n",
            "Requirement already satisfied: google-pasta>=0.1.1 in /usr/local/lib/python3.8/dist-packages (from tensorflow) (0.2.0)\n",
            "Requirement already satisfied: h5py>=2.9.0 in /usr/local/lib/python3.8/dist-packages (from tensorflow) (3.1.0)\n",
            "Requirement already satisfied: setuptools in /usr/local/lib/python3.8/dist-packages (from tensorflow) (57.4.0)\n",
            "Requirement already satisfied: opt-einsum>=2.3.2 in /usr/local/lib/python3.8/dist-packages (from tensorflow) (3.3.0)\n",
            "Requirement already satisfied: tensorflow-estimator<2.10.0,>=2.9.0rc0 in /usr/local/lib/python3.8/dist-packages (from tensorflow) (2.9.0)\n",
            "Requirement already satisfied: tensorflow-io-gcs-filesystem>=0.23.1 in /usr/local/lib/python3.8/dist-packages (from tensorflow) (0.28.0)\n",
            "Requirement already satisfied: keras<2.10.0,>=2.9.0rc0 in /usr/local/lib/python3.8/dist-packages (from tensorflow) (2.9.0)\n",
            "Requirement already satisfied: protobuf<3.20,>=3.9.2 in /usr/local/lib/python3.8/dist-packages (from tensorflow) (3.19.6)\n",
            "Requirement already satisfied: absl-py>=1.0.0 in /usr/local/lib/python3.8/dist-packages (from tensorflow) (1.3.0)\n",
            "Requirement already satisfied: wrapt>=1.11.0 in /usr/local/lib/python3.8/dist-packages (from tensorflow) (1.14.1)\n",
            "Requirement already satisfied: astunparse>=1.6.0 in /usr/local/lib/python3.8/dist-packages (from tensorflow) (1.6.3)\n",
            "Requirement already satisfied: tensorboard<2.10,>=2.9 in /usr/local/lib/python3.8/dist-packages (from tensorflow) (2.9.1)\n",
            "Requirement already satisfied: six>=1.12.0 in /usr/local/lib/python3.8/dist-packages (from tensorflow) (1.15.0)\n",
            "Requirement already satisfied: typing-extensions>=3.6.6 in /usr/local/lib/python3.8/dist-packages (from tensorflow) (4.4.0)\n",
            "Requirement already satisfied: packaging in /usr/local/lib/python3.8/dist-packages (from tensorflow) (21.3)\n",
            "Requirement already satisfied: termcolor>=1.1.0 in /usr/local/lib/python3.8/dist-packages (from tensorflow) (2.1.1)\n",
            "Requirement already satisfied: gast<=0.4.0,>=0.2.1 in /usr/local/lib/python3.8/dist-packages (from tensorflow) (0.4.0)\n",
            "Requirement already satisfied: grpcio<2.0,>=1.24.3 in /usr/local/lib/python3.8/dist-packages (from tensorflow) (1.51.1)\n",
            "Requirement already satisfied: keras-preprocessing>=1.1.1 in /usr/local/lib/python3.8/dist-packages (from tensorflow) (1.1.2)\n",
            "Requirement already satisfied: wheel<1.0,>=0.23.0 in /usr/local/lib/python3.8/dist-packages (from astunparse>=1.6.0->tensorflow) (0.38.4)\n",
            "Requirement already satisfied: google-auth-oauthlib<0.5,>=0.4.1 in /usr/local/lib/python3.8/dist-packages (from tensorboard<2.10,>=2.9->tensorflow) (0.4.6)\n",
            "Requirement already satisfied: tensorboard-data-server<0.7.0,>=0.6.0 in /usr/local/lib/python3.8/dist-packages (from tensorboard<2.10,>=2.9->tensorflow) (0.6.1)\n",
            "Requirement already satisfied: markdown>=2.6.8 in /usr/local/lib/python3.8/dist-packages (from tensorboard<2.10,>=2.9->tensorflow) (3.4.1)\n",
            "Requirement already satisfied: werkzeug>=1.0.1 in /usr/local/lib/python3.8/dist-packages (from tensorboard<2.10,>=2.9->tensorflow) (1.0.1)\n",
            "Requirement already satisfied: google-auth<3,>=1.6.3 in /usr/local/lib/python3.8/dist-packages (from tensorboard<2.10,>=2.9->tensorflow) (2.15.0)\n",
            "Requirement already satisfied: requests<3,>=2.21.0 in /usr/local/lib/python3.8/dist-packages (from tensorboard<2.10,>=2.9->tensorflow) (2.23.0)\n",
            "Requirement already satisfied: tensorboard-plugin-wit>=1.6.0 in /usr/local/lib/python3.8/dist-packages (from tensorboard<2.10,>=2.9->tensorflow) (1.8.1)\n",
            "Requirement already satisfied: pyasn1-modules>=0.2.1 in /usr/local/lib/python3.8/dist-packages (from google-auth<3,>=1.6.3->tensorboard<2.10,>=2.9->tensorflow) (0.2.8)\n",
            "Requirement already satisfied: rsa<5,>=3.1.4 in /usr/local/lib/python3.8/dist-packages (from google-auth<3,>=1.6.3->tensorboard<2.10,>=2.9->tensorflow) (4.9)\n",
            "Requirement already satisfied: cachetools<6.0,>=2.0.0 in /usr/local/lib/python3.8/dist-packages (from google-auth<3,>=1.6.3->tensorboard<2.10,>=2.9->tensorflow) (5.2.0)\n",
            "Requirement already satisfied: requests-oauthlib>=0.7.0 in /usr/local/lib/python3.8/dist-packages (from google-auth-oauthlib<0.5,>=0.4.1->tensorboard<2.10,>=2.9->tensorflow) (1.3.1)\n",
            "Requirement already satisfied: importlib-metadata>=4.4 in /usr/local/lib/python3.8/dist-packages (from markdown>=2.6.8->tensorboard<2.10,>=2.9->tensorflow) (5.1.0)\n",
            "Requirement already satisfied: zipp>=0.5 in /usr/local/lib/python3.8/dist-packages (from importlib-metadata>=4.4->markdown>=2.6.8->tensorboard<2.10,>=2.9->tensorflow) (3.11.0)\n",
            "Requirement already satisfied: pyasn1<0.5.0,>=0.4.6 in /usr/local/lib/python3.8/dist-packages (from pyasn1-modules>=0.2.1->google-auth<3,>=1.6.3->tensorboard<2.10,>=2.9->tensorflow) (0.4.8)\n",
            "Requirement already satisfied: certifi>=2017.4.17 in /usr/local/lib/python3.8/dist-packages (from requests<3,>=2.21.0->tensorboard<2.10,>=2.9->tensorflow) (2022.12.7)\n",
            "Requirement already satisfied: urllib3!=1.25.0,!=1.25.1,<1.26,>=1.21.1 in /usr/local/lib/python3.8/dist-packages (from requests<3,>=2.21.0->tensorboard<2.10,>=2.9->tensorflow) (1.24.3)\n",
            "Requirement already satisfied: idna<3,>=2.5 in /usr/local/lib/python3.8/dist-packages (from requests<3,>=2.21.0->tensorboard<2.10,>=2.9->tensorflow) (2.10)\n",
            "Requirement already satisfied: chardet<4,>=3.0.2 in /usr/local/lib/python3.8/dist-packages (from requests<3,>=2.21.0->tensorboard<2.10,>=2.9->tensorflow) (3.0.4)\n",
            "Requirement already satisfied: oauthlib>=3.0.0 in /usr/local/lib/python3.8/dist-packages (from requests-oauthlib>=0.7.0->google-auth-oauthlib<0.5,>=0.4.1->tensorboard<2.10,>=2.9->tensorflow) (3.2.2)\n",
            "Requirement already satisfied: pyparsing!=3.0.5,>=2.0.2 in /usr/local/lib/python3.8/dist-packages (from packaging->tensorflow) (3.0.9)\n"
          ]
        }
      ],
      "source": [
        "!pip install tensorflow"
      ],
      "metadata": {
        "colab": {
          "base_uri": "https://localhost:8080/"
        },
        "id": "2YXTdBaBvCBq",
        "outputId": "f29d99b8-025d-440a-9c06-6d3f0498d7af"
      },
      "id": "2YXTdBaBvCBq"
    },
    {
      "cell_type": "code",
      "source": [
        "\n",
        "import tensorflow as t\n",
        "import numpy as np\n",
        "from tensorflow.keras.models import Sequential\n",
        "from tensorflow.keras.layers import Flatten\n",
        "from tensorflow.keras.layers import Dense\n",
        "from tensorflow.keras.layers import Activation\n",
        "import matplotlib.pyplot as pt"
      ],
      "metadata": {
        "id": "py_CAzfD-UUd"
      },
      "id": "py_CAzfD-UUd",
      "execution_count": 5,
      "outputs": []
    },
    {
      "cell_type": "code",
      "source": [
        "poro_tensor.shape"
      ],
      "metadata": {
        "colab": {
          "base_uri": "https://localhost:8080/"
        },
        "id": "vTjt93D1_uKw",
        "outputId": "e714368c-9668-4219-b818-220a30ba4646"
      },
      "id": "vTjt93D1_uKw",
      "execution_count": 6,
      "outputs": [
        {
          "output_type": "execute_result",
          "data": {
            "text/plain": [
              "(60, 220, 85)"
            ]
          },
          "metadata": {},
          "execution_count": 6
        }
      ]
    },
    {
      "cell_type": "code",
      "source": [
        "data_tens = []\n",
        "for i in range(poro_tensor.shape[0]):\n",
        "  data_tens.append(poro_tensor[i])"
      ],
      "metadata": {
        "id": "wVmVAcXJ_j3T"
      },
      "id": "wVmVAcXJ_j3T",
      "execution_count": 7,
      "outputs": []
    },
    {
      "cell_type": "code",
      "source": [
        "len(data_tens)"
      ],
      "metadata": {
        "colab": {
          "base_uri": "https://localhost:8080/"
        },
        "id": "a3gQ67_hABAU",
        "outputId": "bd7f92c4-1d9a-41db-d046-5eef69bf94c7"
      },
      "id": "a3gQ67_hABAU",
      "execution_count": 8,
      "outputs": [
        {
          "output_type": "execute_result",
          "data": {
            "text/plain": [
              "60"
            ]
          },
          "metadata": {},
          "execution_count": 8
        }
      ]
    },
    {
      "cell_type": "code",
      "source": [
        "y_data = [[[[i,j, k] for k in range(poro_tensor.shape[2])]for j in range(poro_tensor.shape[1])] for i in range(poro_tensor.shape[0])]"
      ],
      "metadata": {
        "id": "J8HOG2pbCWns"
      },
      "id": "J8HOG2pbCWns",
      "execution_count": 9,
      "outputs": []
    },
    {
      "cell_type": "code",
      "source": [
        "len(y_data)"
      ],
      "metadata": {
        "colab": {
          "base_uri": "https://localhost:8080/"
        },
        "id": "0-nexXcyCgIn",
        "outputId": "f7ff01ac-783c-4910-c7d1-8f98bc5c172d"
      },
      "id": "0-nexXcyCgIn",
      "execution_count": 10,
      "outputs": [
        {
          "output_type": "execute_result",
          "data": {
            "text/plain": [
              "60"
            ]
          },
          "metadata": {},
          "execution_count": 10
        }
      ]
    },
    {
      "cell_type": "code",
      "source": [
        "import itertools"
      ],
      "metadata": {
        "id": "ueR1c4LpQb8B"
      },
      "id": "ueR1c4LpQb8B",
      "execution_count": 11,
      "outputs": []
    },
    {
      "cell_type": "code",
      "source": [
        "y_data_mem = []\n",
        "y_1 = []\n",
        "for i in range(len(y_data)):\n",
        "  y_1.append(list(itertools.chain(*y_data[i])))\n",
        "\n",
        "y_to_pd = list(itertools.chain(*y_1))"
      ],
      "metadata": {
        "id": "4stN13JTM4PL"
      },
      "id": "4stN13JTM4PL",
      "execution_count": 12,
      "outputs": []
    },
    {
      "cell_type": "code",
      "source": [
        "len(y_to_pd)"
      ],
      "metadata": {
        "colab": {
          "base_uri": "https://localhost:8080/"
        },
        "id": "pKCr3R7fPose",
        "outputId": "759dcc51-74cc-4faf-c703-2ff58ee7e964"
      },
      "id": "pKCr3R7fPose",
      "execution_count": 13,
      "outputs": [
        {
          "output_type": "execute_result",
          "data": {
            "text/plain": [
              "1122000"
            ]
          },
          "metadata": {},
          "execution_count": 13
        }
      ]
    },
    {
      "cell_type": "code",
      "source": [
        "np.array(y_to_pd).shape"
      ],
      "metadata": {
        "colab": {
          "base_uri": "https://localhost:8080/"
        },
        "id": "xFrc6yLCSRjs",
        "outputId": "39c6aadf-18a0-42d0-b902-c75deaefdb3f"
      },
      "id": "xFrc6yLCSRjs",
      "execution_count": 14,
      "outputs": [
        {
          "output_type": "execute_result",
          "data": {
            "text/plain": [
              "(1122000, 3)"
            ]
          },
          "metadata": {},
          "execution_count": 14
        }
      ]
    },
    {
      "cell_type": "code",
      "source": [
        "np.reshape(poro_tensor.flatten(),[poro_tensor.flatten().shape[0],1]).shape"
      ],
      "metadata": {
        "colab": {
          "base_uri": "https://localhost:8080/"
        },
        "id": "KEOwY4xWSjwE",
        "outputId": "d003c68c-2ea5-4d3b-bcd2-c0fc4617ff87"
      },
      "id": "KEOwY4xWSjwE",
      "execution_count": 15,
      "outputs": [
        {
          "output_type": "execute_result",
          "data": {
            "text/plain": [
              "(1122000, 1)"
            ]
          },
          "metadata": {},
          "execution_count": 15
        }
      ]
    },
    {
      "cell_type": "code",
      "source": [
        "np.array(y_to_pd)[0][0]"
      ],
      "metadata": {
        "colab": {
          "base_uri": "https://localhost:8080/"
        },
        "id": "NwoSqKDSUcg3",
        "outputId": "18c5d1a8-c0b0-464f-aff3-40e8d8bb9b5b"
      },
      "id": "NwoSqKDSUcg3",
      "execution_count": 16,
      "outputs": [
        {
          "output_type": "execute_result",
          "data": {
            "text/plain": [
              "0"
            ]
          },
          "metadata": {},
          "execution_count": 16
        }
      ]
    },
    {
      "cell_type": "code",
      "source": [
        "i_mem = []\n",
        "j_mem = []\n",
        "k_mem = []\n",
        "for i in range(np.array(y_to_pd).shape[0]):\n",
        "  i_mem.append(np.float32(y_to_pd[i][0]))\n",
        "  j_mem.append(np.float32(y_to_pd[i][1]))\n",
        "  k_mem.append(np.float32(y_to_pd[i][2]))"
      ],
      "metadata": {
        "id": "4Si1eauDT4An"
      },
      "id": "4Si1eauDT4An",
      "execution_count": 17,
      "outputs": []
    },
    {
      "cell_type": "code",
      "source": [
        "i_mem[0]"
      ],
      "metadata": {
        "colab": {
          "base_uri": "https://localhost:8080/"
        },
        "id": "LAkERx7XU_se",
        "outputId": "9acfa863-2c70-45df-febf-ebddc6895e70"
      },
      "id": "LAkERx7XU_se",
      "execution_count": 18,
      "outputs": [
        {
          "output_type": "execute_result",
          "data": {
            "text/plain": [
              "0.0"
            ]
          },
          "metadata": {},
          "execution_count": 18
        }
      ]
    },
    {
      "cell_type": "code",
      "source": [
        "d = {'i': i_mem, 'j': j_mem, 'k': k_mem, 'value': poro_tensor.flatten().tolist()}"
      ],
      "metadata": {
        "id": "dxxqatGvMFO3"
      },
      "id": "dxxqatGvMFO3",
      "execution_count": 19,
      "outputs": []
    },
    {
      "cell_type": "code",
      "source": [
        "D0TA_FRAME = pd.DataFrame(data=d)"
      ],
      "metadata": {
        "id": "up4kBAHXMFym"
      },
      "id": "up4kBAHXMFym",
      "execution_count": 20,
      "outputs": []
    },
    {
      "cell_type": "code",
      "source": [
        "# D0TA_FRAME = D0TA_FRAME.loc[0:1000]\n",
        "D0TA_FRAME"
      ],
      "metadata": {
        "colab": {
          "base_uri": "https://localhost:8080/",
          "height": 424
        },
        "id": "wUkIJ7KPMF6p",
        "outputId": "47a89a7f-3dd9-4b2e-ccf7-7632f3de804b"
      },
      "id": "wUkIJ7KPMF6p",
      "execution_count": 21,
      "outputs": [
        {
          "output_type": "execute_result",
          "data": {
            "text/plain": [
              "            i      j     k     value\n",
              "0         0.0    0.0   0.0  0.184778\n",
              "1         0.0    0.0   1.0  0.191699\n",
              "2         0.0    0.0   2.0  0.159089\n",
              "3         0.0    0.0   3.0  0.151273\n",
              "4         0.0    0.0   4.0  0.123168\n",
              "...       ...    ...   ...       ...\n",
              "1121995  59.0  219.0  80.0  0.033210\n",
              "1121996  59.0  219.0  81.0  0.077864\n",
              "1121997  59.0  219.0  82.0  0.092004\n",
              "1121998  59.0  219.0  83.0  0.090571\n",
              "1121999  59.0  219.0  84.0  0.088943\n",
              "\n",
              "[1122000 rows x 4 columns]"
            ],
            "text/html": [
              "\n",
              "  <div id=\"df-a18ddba7-76be-4df9-ba69-9332607e27ff\">\n",
              "    <div class=\"colab-df-container\">\n",
              "      <div>\n",
              "<style scoped>\n",
              "    .dataframe tbody tr th:only-of-type {\n",
              "        vertical-align: middle;\n",
              "    }\n",
              "\n",
              "    .dataframe tbody tr th {\n",
              "        vertical-align: top;\n",
              "    }\n",
              "\n",
              "    .dataframe thead th {\n",
              "        text-align: right;\n",
              "    }\n",
              "</style>\n",
              "<table border=\"1\" class=\"dataframe\">\n",
              "  <thead>\n",
              "    <tr style=\"text-align: right;\">\n",
              "      <th></th>\n",
              "      <th>i</th>\n",
              "      <th>j</th>\n",
              "      <th>k</th>\n",
              "      <th>value</th>\n",
              "    </tr>\n",
              "  </thead>\n",
              "  <tbody>\n",
              "    <tr>\n",
              "      <th>0</th>\n",
              "      <td>0.0</td>\n",
              "      <td>0.0</td>\n",
              "      <td>0.0</td>\n",
              "      <td>0.184778</td>\n",
              "    </tr>\n",
              "    <tr>\n",
              "      <th>1</th>\n",
              "      <td>0.0</td>\n",
              "      <td>0.0</td>\n",
              "      <td>1.0</td>\n",
              "      <td>0.191699</td>\n",
              "    </tr>\n",
              "    <tr>\n",
              "      <th>2</th>\n",
              "      <td>0.0</td>\n",
              "      <td>0.0</td>\n",
              "      <td>2.0</td>\n",
              "      <td>0.159089</td>\n",
              "    </tr>\n",
              "    <tr>\n",
              "      <th>3</th>\n",
              "      <td>0.0</td>\n",
              "      <td>0.0</td>\n",
              "      <td>3.0</td>\n",
              "      <td>0.151273</td>\n",
              "    </tr>\n",
              "    <tr>\n",
              "      <th>4</th>\n",
              "      <td>0.0</td>\n",
              "      <td>0.0</td>\n",
              "      <td>4.0</td>\n",
              "      <td>0.123168</td>\n",
              "    </tr>\n",
              "    <tr>\n",
              "      <th>...</th>\n",
              "      <td>...</td>\n",
              "      <td>...</td>\n",
              "      <td>...</td>\n",
              "      <td>...</td>\n",
              "    </tr>\n",
              "    <tr>\n",
              "      <th>1121995</th>\n",
              "      <td>59.0</td>\n",
              "      <td>219.0</td>\n",
              "      <td>80.0</td>\n",
              "      <td>0.033210</td>\n",
              "    </tr>\n",
              "    <tr>\n",
              "      <th>1121996</th>\n",
              "      <td>59.0</td>\n",
              "      <td>219.0</td>\n",
              "      <td>81.0</td>\n",
              "      <td>0.077864</td>\n",
              "    </tr>\n",
              "    <tr>\n",
              "      <th>1121997</th>\n",
              "      <td>59.0</td>\n",
              "      <td>219.0</td>\n",
              "      <td>82.0</td>\n",
              "      <td>0.092004</td>\n",
              "    </tr>\n",
              "    <tr>\n",
              "      <th>1121998</th>\n",
              "      <td>59.0</td>\n",
              "      <td>219.0</td>\n",
              "      <td>83.0</td>\n",
              "      <td>0.090571</td>\n",
              "    </tr>\n",
              "    <tr>\n",
              "      <th>1121999</th>\n",
              "      <td>59.0</td>\n",
              "      <td>219.0</td>\n",
              "      <td>84.0</td>\n",
              "      <td>0.088943</td>\n",
              "    </tr>\n",
              "  </tbody>\n",
              "</table>\n",
              "<p>1122000 rows × 4 columns</p>\n",
              "</div>\n",
              "      <button class=\"colab-df-convert\" onclick=\"convertToInteractive('df-a18ddba7-76be-4df9-ba69-9332607e27ff')\"\n",
              "              title=\"Convert this dataframe to an interactive table.\"\n",
              "              style=\"display:none;\">\n",
              "        \n",
              "  <svg xmlns=\"http://www.w3.org/2000/svg\" height=\"24px\"viewBox=\"0 0 24 24\"\n",
              "       width=\"24px\">\n",
              "    <path d=\"M0 0h24v24H0V0z\" fill=\"none\"/>\n",
              "    <path d=\"M18.56 5.44l.94 2.06.94-2.06 2.06-.94-2.06-.94-.94-2.06-.94 2.06-2.06.94zm-11 1L8.5 8.5l.94-2.06 2.06-.94-2.06-.94L8.5 2.5l-.94 2.06-2.06.94zm10 10l.94 2.06.94-2.06 2.06-.94-2.06-.94-.94-2.06-.94 2.06-2.06.94z\"/><path d=\"M17.41 7.96l-1.37-1.37c-.4-.4-.92-.59-1.43-.59-.52 0-1.04.2-1.43.59L10.3 9.45l-7.72 7.72c-.78.78-.78 2.05 0 2.83L4 21.41c.39.39.9.59 1.41.59.51 0 1.02-.2 1.41-.59l7.78-7.78 2.81-2.81c.8-.78.8-2.07 0-2.86zM5.41 20L4 18.59l7.72-7.72 1.47 1.35L5.41 20z\"/>\n",
              "  </svg>\n",
              "      </button>\n",
              "      \n",
              "  <style>\n",
              "    .colab-df-container {\n",
              "      display:flex;\n",
              "      flex-wrap:wrap;\n",
              "      gap: 12px;\n",
              "    }\n",
              "\n",
              "    .colab-df-convert {\n",
              "      background-color: #E8F0FE;\n",
              "      border: none;\n",
              "      border-radius: 50%;\n",
              "      cursor: pointer;\n",
              "      display: none;\n",
              "      fill: #1967D2;\n",
              "      height: 32px;\n",
              "      padding: 0 0 0 0;\n",
              "      width: 32px;\n",
              "    }\n",
              "\n",
              "    .colab-df-convert:hover {\n",
              "      background-color: #E2EBFA;\n",
              "      box-shadow: 0px 1px 2px rgba(60, 64, 67, 0.3), 0px 1px 3px 1px rgba(60, 64, 67, 0.15);\n",
              "      fill: #174EA6;\n",
              "    }\n",
              "\n",
              "    [theme=dark] .colab-df-convert {\n",
              "      background-color: #3B4455;\n",
              "      fill: #D2E3FC;\n",
              "    }\n",
              "\n",
              "    [theme=dark] .colab-df-convert:hover {\n",
              "      background-color: #434B5C;\n",
              "      box-shadow: 0px 1px 3px 1px rgba(0, 0, 0, 0.15);\n",
              "      filter: drop-shadow(0px 1px 2px rgba(0, 0, 0, 0.3));\n",
              "      fill: #FFFFFF;\n",
              "    }\n",
              "  </style>\n",
              "\n",
              "      <script>\n",
              "        const buttonEl =\n",
              "          document.querySelector('#df-a18ddba7-76be-4df9-ba69-9332607e27ff button.colab-df-convert');\n",
              "        buttonEl.style.display =\n",
              "          google.colab.kernel.accessAllowed ? 'block' : 'none';\n",
              "\n",
              "        async function convertToInteractive(key) {\n",
              "          const element = document.querySelector('#df-a18ddba7-76be-4df9-ba69-9332607e27ff');\n",
              "          const dataTable =\n",
              "            await google.colab.kernel.invokeFunction('convertToInteractive',\n",
              "                                                     [key], {});\n",
              "          if (!dataTable) return;\n",
              "\n",
              "          const docLinkHtml = 'Like what you see? Visit the ' +\n",
              "            '<a target=\"_blank\" href=https://colab.research.google.com/notebooks/data_table.ipynb>data table notebook</a>'\n",
              "            + ' to learn more about interactive tables.';\n",
              "          element.innerHTML = '';\n",
              "          dataTable['output_type'] = 'display_data';\n",
              "          await google.colab.output.renderOutput(dataTable, element);\n",
              "          const docLink = document.createElement('div');\n",
              "          docLink.innerHTML = docLinkHtml;\n",
              "          element.appendChild(docLink);\n",
              "        }\n",
              "      </script>\n",
              "    </div>\n",
              "  </div>\n",
              "  "
            ]
          },
          "metadata": {},
          "execution_count": 21
        }
      ]
    },
    {
      "cell_type": "code",
      "source": [
        "X = D0TA_FRAME[['i','j','k']]\n",
        "Y = np.float32(D0TA_FRAME['value'])"
      ],
      "metadata": {
        "id": "z4aGcNimXDFN"
      },
      "id": "z4aGcNimXDFN",
      "execution_count": 22,
      "outputs": []
    },
    {
      "cell_type": "code",
      "source": [
        "X.shape"
      ],
      "metadata": {
        "colab": {
          "base_uri": "https://localhost:8080/"
        },
        "id": "oz54wgZn5RG6",
        "outputId": "b819cf12-6cd0-48aa-f9fe-a9bc466adb72"
      },
      "id": "oz54wgZn5RG6",
      "execution_count": 23,
      "outputs": [
        {
          "output_type": "execute_result",
          "data": {
            "text/plain": [
              "(1122000, 3)"
            ]
          },
          "metadata": {},
          "execution_count": 23
        }
      ]
    },
    {
      "cell_type": "code",
      "source": [
        "Y[0].dtype"
      ],
      "metadata": {
        "colab": {
          "base_uri": "https://localhost:8080/"
        },
        "id": "rgkmg0efj1GK",
        "outputId": "07b51c32-bfcf-4439-87db-2c478c7edfa9"
      },
      "id": "rgkmg0efj1GK",
      "execution_count": 24,
      "outputs": [
        {
          "output_type": "execute_result",
          "data": {
            "text/plain": [
              "dtype('float32')"
            ]
          },
          "metadata": {},
          "execution_count": 24
        }
      ]
    },
    {
      "cell_type": "code",
      "source": [
        "import torch\n",
        "\n",
        "DEVICE = torch.device(\"cuda:0\" if torch.cuda.is_available() else \"cpu\")"
      ],
      "metadata": {
        "id": "edn0ur9GcLU4"
      },
      "id": "edn0ur9GcLU4",
      "execution_count": 25,
      "outputs": []
    },
    {
      "cell_type": "code",
      "source": [
        "DEVICE"
      ],
      "metadata": {
        "colab": {
          "base_uri": "https://localhost:8080/"
        },
        "id": "31dvO_-vfpRt",
        "outputId": "f16a0a3a-8096-4057-e25f-977fe443ce9b"
      },
      "id": "31dvO_-vfpRt",
      "execution_count": 26,
      "outputs": [
        {
          "output_type": "execute_result",
          "data": {
            "text/plain": [
              "device(type='cuda', index=0)"
            ]
          },
          "metadata": {},
          "execution_count": 26
        }
      ]
    },
    {
      "cell_type": "code",
      "source": [
        "# Convert inputs and targets to tensors\n",
        "inputs = torch.from_numpy(X.to_numpy())\n",
        "targets = torch.from_numpy(Y)"
      ],
      "metadata": {
        "id": "H4jrwjgvZC1k"
      },
      "id": "H4jrwjgvZC1k",
      "execution_count": 27,
      "outputs": []
    },
    {
      "cell_type": "code",
      "source": [
        "inputs.shape"
      ],
      "metadata": {
        "colab": {
          "base_uri": "https://localhost:8080/"
        },
        "id": "dFP-dkNf5Uz-",
        "outputId": "bccfbb07-7d35-41a0-ee02-7ba9ca879098"
      },
      "id": "dFP-dkNf5Uz-",
      "execution_count": 28,
      "outputs": [
        {
          "output_type": "execute_result",
          "data": {
            "text/plain": [
              "torch.Size([1122000, 3])"
            ]
          },
          "metadata": {},
          "execution_count": 28
        }
      ]
    },
    {
      "cell_type": "code",
      "source": [
        "class Feedforward(torch.nn.Module):\n",
        "        def __init__(self, input_size, hidden_size):\n",
        "            super(Feedforward, self).__init__()\n",
        "            self.input_size = input_size\n",
        "            self.hidden_size  = hidden_size\n",
        "            self.fc1 = torch.nn.Linear(self.input_size, self.hidden_size)\n",
        "            self.relu = torch.nn.ReLU()\n",
        "            self.fc2 = torch.nn.Linear(self.hidden_size, 1)\n",
        "            self.sigmoid = torch.nn.Sigmoid()\n",
        "        def forward(self, x):\n",
        "            hidden = self.fc1(x)\n",
        "            relu = self.relu(hidden)\n",
        "            output = self.fc2(relu)\n",
        "            output = self.sigmoid(output)\n",
        "            return output"
      ],
      "metadata": {
        "id": "ZCAg-_ihvgUe"
      },
      "id": "ZCAg-_ihvgUe",
      "execution_count": 32,
      "outputs": []
    },
    {
      "cell_type": "code",
      "source": [
        "x_train = torch.FloatTensor(inputs)\n",
        "y_train = torch.FloatTensor(targets)"
      ],
      "metadata": {
        "id": "j00nWVoqvga-"
      },
      "id": "j00nWVoqvga-",
      "execution_count": 33,
      "outputs": []
    },
    {
      "cell_type": "code",
      "source": [
        "inputs.shape"
      ],
      "metadata": {
        "colab": {
          "base_uri": "https://localhost:8080/"
        },
        "id": "2aC--ypU5IWf",
        "outputId": "a89ce2b7-a9c3-4c70-f394-67c883646f4b"
      },
      "id": "2aC--ypU5IWf",
      "execution_count": 34,
      "outputs": [
        {
          "output_type": "execute_result",
          "data": {
            "text/plain": [
              "torch.Size([1122000, 3])"
            ]
          },
          "metadata": {},
          "execution_count": 34
        }
      ]
    },
    {
      "cell_type": "code",
      "source": [
        "model = Feedforward(3, 60000)\n",
        "criterion = torch.nn.MSELoss()\n",
        "optimizer = torch.optim.SGD(model.parameters(), lr = 0.01)"
      ],
      "metadata": {
        "id": "NxKtoRqTvggs"
      },
      "id": "NxKtoRqTvggs",
      "execution_count": 42,
      "outputs": []
    },
    {
      "cell_type": "code",
      "source": [
        "x_test = torch.FloatTensor(inputs[0:100])\n",
        "y_test = torch.FloatTensor(targets[0:100])"
      ],
      "metadata": {
        "id": "vqxgbdRe1H4w"
      },
      "id": "vqxgbdRe1H4w",
      "execution_count": 43,
      "outputs": []
    },
    {
      "cell_type": "code",
      "source": [
        "model.eval()\n",
        "y_pred = model(x_train)\n",
        "before_train = criterion(y_pred.squeeze(), y_train)\n",
        "print('Test loss before training' , before_train.item())"
      ],
      "metadata": {
        "id": "epbcblFTvgmo"
      },
      "id": "epbcblFTvgmo",
      "execution_count": null,
      "outputs": []
    },
    {
      "cell_type": "code",
      "source": [
        "model.train()\n",
        "epoch = 100\n",
        "for epoch in range(epoch):\n",
        "    optimizer.zero_grad()\n",
        "    # Forward pass\n",
        "    y_pred = model(x_train)\n",
        "    # Compute Loss\n",
        "    loss = criterion(y_pred.squeeze(), y_train)\n",
        "   \n",
        "    print('Epoch {}: train loss: {}'.format(epoch, loss.item()))\n",
        "    # Backward pass\n",
        "    loss.backward()\n",
        "    optimizer.step()"
      ],
      "metadata": {
        "colab": {
          "base_uri": "https://localhost:8080/"
        },
        "id": "0LaQxpbuvgvG",
        "outputId": "f91cf97d-8a58-48c3-8553-a3f32fc0b881"
      },
      "id": "0LaQxpbuvgvG",
      "execution_count": 37,
      "outputs": [
        {
          "output_type": "stream",
          "name": "stdout",
          "text": [
            "Epoch 0: train loss: 0.02728753164410591\n",
            "Epoch 1: train loss: 0.02665335312485695\n",
            "Epoch 2: train loss: 0.554000735282898\n",
            "Epoch 3: train loss: 0.03780006244778633\n",
            "Epoch 4: train loss: 0.03780006244778633\n",
            "Epoch 5: train loss: 0.03780006244778633\n",
            "Epoch 6: train loss: 0.03780006244778633\n",
            "Epoch 7: train loss: 0.03780006244778633\n",
            "Epoch 8: train loss: 0.03780005872249603\n",
            "Epoch 9: train loss: 0.03780005872249603\n",
            "Epoch 10: train loss: 0.03780005872249603\n",
            "Epoch 11: train loss: 0.03780005872249603\n",
            "Epoch 12: train loss: 0.03780005872249603\n",
            "Epoch 13: train loss: 0.03780005872249603\n",
            "Epoch 14: train loss: 0.03780005872249603\n",
            "Epoch 15: train loss: 0.03780005872249603\n",
            "Epoch 16: train loss: 0.03780005872249603\n",
            "Epoch 17: train loss: 0.03780005872249603\n",
            "Epoch 18: train loss: 0.03780005872249603\n",
            "Epoch 19: train loss: 0.03780005872249603\n",
            "Epoch 20: train loss: 0.03780005872249603\n",
            "Epoch 21: train loss: 0.03780005872249603\n",
            "Epoch 22: train loss: 0.037800054997205734\n",
            "Epoch 23: train loss: 0.037800054997205734\n",
            "Epoch 24: train loss: 0.037800054997205734\n",
            "Epoch 25: train loss: 0.037800054997205734\n",
            "Epoch 26: train loss: 0.037800054997205734\n",
            "Epoch 27: train loss: 0.037800054997205734\n",
            "Epoch 28: train loss: 0.037800054997205734\n",
            "Epoch 29: train loss: 0.037800054997205734\n",
            "Epoch 30: train loss: 0.037800054997205734\n",
            "Epoch 31: train loss: 0.037800051271915436\n",
            "Epoch 32: train loss: 0.037800051271915436\n",
            "Epoch 33: train loss: 0.037800051271915436\n",
            "Epoch 34: train loss: 0.037800051271915436\n",
            "Epoch 35: train loss: 0.037800051271915436\n",
            "Epoch 36: train loss: 0.037800051271915436\n",
            "Epoch 37: train loss: 0.037800051271915436\n",
            "Epoch 38: train loss: 0.037800051271915436\n",
            "Epoch 39: train loss: 0.03780004754662514\n",
            "Epoch 40: train loss: 0.03780004754662514\n",
            "Epoch 41: train loss: 0.03780004754662514\n",
            "Epoch 42: train loss: 0.03780004754662514\n",
            "Epoch 43: train loss: 0.03780004754662514\n",
            "Epoch 44: train loss: 0.03780004754662514\n",
            "Epoch 45: train loss: 0.03780004754662514\n",
            "Epoch 46: train loss: 0.03780004754662514\n",
            "Epoch 47: train loss: 0.03780004754662514\n",
            "Epoch 48: train loss: 0.03780004754662514\n",
            "Epoch 49: train loss: 0.03780004754662514\n",
            "Epoch 50: train loss: 0.03780004382133484\n",
            "Epoch 51: train loss: 0.03780004382133484\n",
            "Epoch 52: train loss: 0.03780004382133484\n",
            "Epoch 53: train loss: 0.03780004382133484\n",
            "Epoch 54: train loss: 0.03780004382133484\n",
            "Epoch 55: train loss: 0.03780003637075424\n",
            "Epoch 56: train loss: 0.03780003637075424\n",
            "Epoch 57: train loss: 0.03780003637075424\n",
            "Epoch 58: train loss: 0.03780003637075424\n",
            "Epoch 59: train loss: 0.03780003637075424\n",
            "Epoch 60: train loss: 0.03780003637075424\n",
            "Epoch 61: train loss: 0.03780003637075424\n",
            "Epoch 62: train loss: 0.03780003637075424\n",
            "Epoch 63: train loss: 0.03780003637075424\n",
            "Epoch 64: train loss: 0.03780003637075424\n",
            "Epoch 65: train loss: 0.03780003637075424\n",
            "Epoch 66: train loss: 0.03780003637075424\n",
            "Epoch 67: train loss: 0.037800028920173645\n",
            "Epoch 68: train loss: 0.037800028920173645\n",
            "Epoch 69: train loss: 0.037800028920173645\n",
            "Epoch 70: train loss: 0.037800028920173645\n",
            "Epoch 71: train loss: 0.037800028920173645\n",
            "Epoch 72: train loss: 0.037800028920173645\n",
            "Epoch 73: train loss: 0.037800028920173645\n",
            "Epoch 74: train loss: 0.037800028920173645\n",
            "Epoch 75: train loss: 0.037800028920173645\n",
            "Epoch 76: train loss: 0.037800028920173645\n",
            "Epoch 77: train loss: 0.037800028920173645\n",
            "Epoch 78: train loss: 0.037800028920173645\n",
            "Epoch 79: train loss: 0.037800028920173645\n",
            "Epoch 80: train loss: 0.037800028920173645\n",
            "Epoch 81: train loss: 0.03780002519488335\n",
            "Epoch 82: train loss: 0.03780002519488335\n",
            "Epoch 83: train loss: 0.03780002519488335\n",
            "Epoch 84: train loss: 0.03780002519488335\n",
            "Epoch 85: train loss: 0.03780002519488335\n",
            "Epoch 86: train loss: 0.03780002519488335\n",
            "Epoch 87: train loss: 0.03780002519488335\n",
            "Epoch 88: train loss: 0.03780002519488335\n",
            "Epoch 89: train loss: 0.03780002146959305\n",
            "Epoch 90: train loss: 0.03780002146959305\n",
            "Epoch 91: train loss: 0.03780002146959305\n",
            "Epoch 92: train loss: 0.03780002146959305\n",
            "Epoch 93: train loss: 0.03780001774430275\n",
            "Epoch 94: train loss: 0.03780001774430275\n",
            "Epoch 95: train loss: 0.03780001774430275\n",
            "Epoch 96: train loss: 0.03780001774430275\n",
            "Epoch 97: train loss: 0.03780001774430275\n",
            "Epoch 98: train loss: 0.03780001774430275\n",
            "Epoch 99: train loss: 0.03780001774430275\n"
          ]
        }
      ]
    },
    {
      "cell_type": "code",
      "source": [
        "model.eval()\n",
        "y_pred = model(x_train)\n",
        "after_train = criterion(y_pred.squeeze(), y_train) \n",
        "print('Test loss after Training' , after_train.item())"
      ],
      "metadata": {
        "colab": {
          "base_uri": "https://localhost:8080/"
        },
        "id": "-7NAXCJH03IU",
        "outputId": "0f2e78d2-f590-4ad0-f9b4-8b2b07e5a204"
      },
      "id": "-7NAXCJH03IU",
      "execution_count": 38,
      "outputs": [
        {
          "output_type": "stream",
          "name": "stdout",
          "text": [
            "Test loss after Training 0.03780001774430275\n"
          ]
        }
      ]
    },
    {
      "cell_type": "code",
      "source": [
        "print('RMSE: ', round(0.03780001774430275**0.5,3))"
      ],
      "metadata": {
        "colab": {
          "base_uri": "https://localhost:8080/"
        },
        "id": "fKPbWYXa8bh8",
        "outputId": "f01a3938-b378-4a4f-9eec-e7f6b0820b88"
      },
      "id": "fKPbWYXa8bh8",
      "execution_count": 40,
      "outputs": [
        {
          "output_type": "stream",
          "name": "stdout",
          "text": [
            "RMSE:  0.194\n"
          ]
        }
      ]
    },
    {
      "cell_type": "code",
      "source": [],
      "metadata": {
        "id": "_9RCkAU4Y9ol"
      },
      "id": "_9RCkAU4Y9ol",
      "execution_count": null,
      "outputs": []
    },
    {
      "cell_type": "code",
      "source": [],
      "metadata": {
        "id": "uRilAs1tY9dT"
      },
      "id": "uRilAs1tY9dT",
      "execution_count": null,
      "outputs": []
    }
  ],
  "metadata": {
    "colab": {
      "collapsed_sections": [
        "5sEl3ut1a-Eo"
      ],
      "provenance": []
    },
    "kernelspec": {
      "display_name": "Python 3 (ipykernel)",
      "language": "python",
      "name": "python3"
    },
    "language_info": {
      "codemirror_mode": {
        "name": "ipython",
        "version": 3
      },
      "file_extension": ".py",
      "mimetype": "text/x-python",
      "name": "python",
      "nbconvert_exporter": "python",
      "pygments_lexer": "ipython3",
      "version": "3.9.13"
    },
    "accelerator": "GPU",
    "gpuClass": "standard"
  },
  "nbformat": 4,
  "nbformat_minor": 5
}